{
 "cells": [
  {
   "cell_type": "code",
   "execution_count": 4,
   "metadata": {},
   "outputs": [
    {
     "name": "stderr",
     "output_type": "stream",
     "text": [
      "100%|██████████| 5/5 [00:00<00:00, 124.29it/s]\n"
     ]
    }
   ],
   "source": [
    "import numpy as np\n",
    "from tqdm import tqdm\n",
    "import cv2\n",
    "\n",
    "np.random.seed(1024)\n",
    "\n",
    "n = 10\n",
    "X = np.zeros((n, 224, 224, 3), dtype=np.uint8)\n",
    "y = np.zeros((n, 1), dtype=np.uint8)\n",
    "\n",
    "for i in tqdm(range(n//2)):\n",
    "    X[i] = cv2.resize(cv2.imread('train/cat.%d.jpg' % i),(224, 224))\n",
    "    X[i+n//2] = cv2.resize(cv2.imread('train/dog.%d.jpg' % i),(224, 224))\n",
    "\n",
    "y[n//2:] = 1"
   ]
  },
  {
   "cell_type": "code",
   "execution_count": 5,
   "metadata": {
    "collapsed": true
   },
   "outputs": [],
   "source": [
    "from sklearn.model_selection import train_test_split\n",
    "X_train, X_test, y_train, y_test = train_test_split(X, y, test_size=0.2)"
   ]
  },
  {
   "cell_type": "code",
   "execution_count": 6,
   "metadata": {
    "scrolled": true
   },
   "outputs": [],
   "source": [
    "\"\"\"\n",
    "import numpy as np\n",
    "np.random.seed(1337)  # for reproducibility\n",
    "from keras.datasets import mnist\n",
    "from keras.utils import np_utils\n",
    "from keras.models import Sequential\n",
    "from keras.layers import Dense, Activation, Convolution2D, MaxPooling2D, Flatten\n",
    "from keras.optimizers import Adam\n",
    "print (X_train.shape)\n",
    "\"\"\"\n",
    "from keras.models import Model\n",
    "from keras.applications.resnet50 import ResNet50\n",
    "from keras.layers import  GlobalAveragePooling2D, Dropout, Dense,Input\n",
    "base_model = ResNet50(input_tensor=Input((224, 224, 3)), weights='imagenet', include_top=False)\n",
    "\n",
    "for layers in base_model.layers:\n",
    "    layers.trainable = False\n",
    "\n",
    "x = GlobalAveragePooling2D()(base_model.output)\n",
    "x = Dropout(0.25)(x)\n",
    "x = Dense(1, activation='sigmoid')(x)\n",
    "model = Model(base_model.input, x)\n",
    "\n",
    "\n",
    "model.compile(optimizer='adadelta',\n",
    "              loss='binary_crossentropy',\n",
    "              metrics=['accuracy'])"
   ]
  },
  {
   "cell_type": "code",
   "execution_count": 7,
   "metadata": {},
   "outputs": [
    {
     "data": {
      "text/plain": [
       "\"\\nfrom keras.utils import np_utils\\nfrom keras.models import Sequential\\nfrom keras.layers import Dense, Activation, Convolution2D, MaxPooling2D, Flatten\\nfrom keras.optimizers import Adam\\n\\nmodel = Sequential()\\n#c1\\nmodel.add(Convolution2D(\\n    batch_input_shape=(None, 28, 28, 3),\\n    filters=32,\\n    kernel_size=1,\\n    strides=1,\\n    padding='same',     # Padding method\\n    data_format='channels_first'))\\n\\nmodel.add(Activation('relu'))\\n\\nmodel.add(MaxPooling2D(\\n    pool_size=1,\\n    strides=1,\\n    padding='same',    # Padding method\\n    data_format='channels_first',\\n))\\n\\nmodel.add(Convolution2D(64, 1, strides=1, padding='same', data_format='channels_first'))\\nmodel.add(Activation('relu'))\\n\\n# Pooling layer 2 (max pooling) output shape (64, 7, 7)\\nmodel.add(MaxPooling2D(1, 1, 'same', data_format='channels_first'))\\n\\nmodel.add(Flatten())\\nmodel.add(Dense(1024))\\nmodel.add(Activation('relu'))\\n\\n# Fully connected layer 2 to shape (10) for 10 classes\\nmodel.add(Dense(2))\\nmodel.add(Activation('softmax'))\\n\\nadam = Adam(lr=1e-7)\\n\\n# We add metrics to get more results you want to see\\nmodel.compile(optimizer=adam,\\n              loss='categorical_crossentropy',\\n              metrics=['accuracy'])\\n\""
      ]
     },
     "execution_count": 7,
     "metadata": {},
     "output_type": "execute_result"
    }
   ],
   "source": [
    "\"\"\"\n",
    "from keras.utils import np_utils\n",
    "from keras.models import Sequential\n",
    "from keras.layers import Dense, Activation, Convolution2D, MaxPooling2D, Flatten\n",
    "from keras.optimizers import Adam\n",
    "\n",
    "model = Sequential()\n",
    "#c1\n",
    "model.add(Convolution2D(\n",
    "    batch_input_shape=(None, 28, 28, 3),\n",
    "    filters=32,\n",
    "    kernel_size=1,\n",
    "    strides=1,\n",
    "    padding='same',     # Padding method\n",
    "    data_format='channels_first'))\n",
    "\n",
    "model.add(Activation('relu'))\n",
    "\n",
    "model.add(MaxPooling2D(\n",
    "    pool_size=1,\n",
    "    strides=1,\n",
    "    padding='same',    # Padding method\n",
    "    data_format='channels_first',\n",
    "))\n",
    "\n",
    "model.add(Convolution2D(64, 1, strides=1, padding='same', data_format='channels_first'))\n",
    "model.add(Activation('relu'))\n",
    "\n",
    "# Pooling layer 2 (max pooling) output shape (64, 7, 7)\n",
    "model.add(MaxPooling2D(1, 1, 'same', data_format='channels_first'))\n",
    "\n",
    "model.add(Flatten())\n",
    "model.add(Dense(1024))\n",
    "model.add(Activation('relu'))\n",
    "\n",
    "# Fully connected layer 2 to shape (10) for 10 classes\n",
    "model.add(Dense(2))\n",
    "model.add(Activation('softmax'))\n",
    "\n",
    "adam = Adam(lr=1e-7)\n",
    "\n",
    "# We add metrics to get more results you want to see\n",
    "model.compile(optimizer=adam,\n",
    "              loss='categorical_crossentropy',\n",
    "              metrics=['accuracy'])\n",
    "\"\"\"\n"
   ]
  },
  {
   "cell_type": "code",
   "execution_count": 8,
   "metadata": {},
   "outputs": [
    {
     "name": "stdout",
     "output_type": "stream",
     "text": [
      "Train on 8 samples, validate on 2 samples\n",
      "Epoch 1/5\n",
      "8/8 [==============================] - 3s - loss: 0.8445 - acc: 0.5000 - val_loss: 0.9586 - val_acc: 0.0000e+00\n",
      "Epoch 2/5\n",
      "8/8 [==============================] - 0s - loss: 0.8728 - acc: 0.3750 - val_loss: 0.9511 - val_acc: 0.5000\n",
      "Epoch 3/5\n",
      "8/8 [==============================] - 0s - loss: 0.6977 - acc: 0.6250 - val_loss: 0.9537 - val_acc: 0.5000\n",
      "Epoch 4/5\n",
      "8/8 [==============================] - 0s - loss: 0.6949 - acc: 0.6250 - val_loss: 0.9775 - val_acc: 0.0000e+00\n",
      "Epoch 5/5\n",
      "8/8 [==============================] - 0s - loss: 0.6501 - acc: 0.7500 - val_loss: 0.9302 - val_acc: 0.5000\n"
     ]
    }
   ],
   "source": [
    "model.fit(X_train, y_train, batch_size=16, epochs=5, validation_data=(X_test, y_test))\n",
    "model.save('train_result_model.h5')"
   ]
  }
 ],
 "metadata": {
  "kernelspec": {
   "display_name": "Python 3",
   "language": "python",
   "name": "python3"
  },
  "language_info": {
   "codemirror_mode": {
    "name": "ipython",
    "version": 3
   },
   "file_extension": ".py",
   "mimetype": "text/x-python",
   "name": "python",
   "nbconvert_exporter": "python",
   "pygments_lexer": "ipython3",
   "version": "3.6.3"
  }
 },
 "nbformat": 4,
 "nbformat_minor": 2
}
